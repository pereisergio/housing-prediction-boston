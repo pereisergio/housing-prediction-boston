{
 "cells": [
  {
   "cell_type": "code",
   "execution_count": 1,
   "id": "3e37909e-bf0c-476f-ae9f-7d51d6b31def",
   "metadata": {},
   "outputs": [],
   "source": [
    "import numpy as np\n",
    "import pandas as pd\n",
    "from sklearn import datasets\n",
    "from sklearn.linear_model import LinearRegression\n",
    "from sklearn.metrics import mean_squared_error\n",
    "from sklearn.model_selection import GridSearchCV, train_test_split\n",
    "from sklearn.svm import SVR\n",
    "from xgboost import XGBRegressor"
   ]
  },
  {
   "cell_type": "code",
   "execution_count": 2,
   "id": "843fc19f-6833-4dd0-9193-9f91bafd4930",
   "metadata": {},
   "outputs": [],
   "source": [
    "# Concatenando os arquivos\n",
    "df_base = pd.concat(\n",
    "    [\n",
    "        pd.read_csv(\"assets/train.csv\", index_col=0),\n",
    "        pd.concat(\n",
    "            [\n",
    "                pd.read_csv(\"assets/test.csv\", index_col=0),\n",
    "                pd.read_csv(\"assets/submission_example.csv\", index_col=0),\n",
    "            ],\n",
    "            axis=1,\n",
    "        ),\n",
    "    ]\n",
    ")\n",
    "\n",
    "# Separando features e target corretamente\n",
    "features = df_base.iloc[:, :-1]  # Todas as colunas menos a última\n",
    "target = df_base.iloc[:, -1:].copy()  # Apenas a última coluna"
   ]
  },
  {
   "cell_type": "code",
   "execution_count": 3,
   "id": "138494be-b97b-42ed-b407-abb9a27f6020",
   "metadata": {},
   "outputs": [],
   "source": [
    "# Caracteristicas das Casas\n",
    "X = features.values\n",
    "\n",
    "# Preço Conhecido Das Casas - Target\n",
    "y = target.values"
   ]
  },
  {
   "cell_type": "markdown",
   "id": "350021df-d3a1-48bb-a9f0-4545d53d0ff5",
   "metadata": {},
   "source": [
    "# Modeling Techniques\n",
    "\n",
    "1. [LinearRegression from SkLearn](https://scikit-learn.org/stable/modules/generated/sklearn.linear_model.LinearRegression.html#sklearn.linear_model.LinearRegression)\n",
    "2. [Support Vector Regression from SkLeanr](https://scikit-learn.org/stable/modules/generated/sklearn.svm.LinearSVR.html#sklearn.svm.LinearSVR)\n",
    "3. [Decision Tree Regression from XGBoost](https://xgboost.readthedocs.io/en/release_3.0.0/python/python_api.html)\n",
    "\n",
    "# Modeling Assumption\n",
    "\n",
    "1. Only numeric values"
   ]
  },
  {
   "cell_type": "code",
   "execution_count": null,
   "id": "462a0e4c-ab11-4e5e-a32f-d49037e75921",
   "metadata": {},
   "outputs": [],
   "source": []
  },
  {
   "cell_type": "markdown",
   "id": "e2b949db-63de-4375-a383-8518046076d1",
   "metadata": {},
   "source": [
    "# Test Design\n",
    "\n",
    "## Dataset Split:\n",
    "\n",
    "1. Separação de Train/Test dataset padrão com 20% de massa para teste via metodo SkLearn\n",
    "\n",
    "## Métrica de avaliação do modelo:\n",
    "\n",
    "1. Validação da métrica MSE e RMSE para penalizar grandes erros de previsão\n",
    "2. [Utilizando o método do SkLearn](https://scikit-learn.org/stable/modules/generated/sklearn.metrics.mean_squared_error.html#sklearn.metrics.mean_squared_error)"
   ]
  },
  {
   "cell_type": "code",
   "execution_count": 4,
   "id": "698d7cfe-8f9c-4ac1-ad8e-185771969f9d",
   "metadata": {},
   "outputs": [],
   "source": [
    "X_train, X_test, y_train, y_test = train_test_split(\n",
    "    X, y, test_size=0.2, random_state=42\n",
    ")"
   ]
  },
  {
   "cell_type": "markdown",
   "id": "29251bff-2fa3-4cd7-a984-92aa7d5f740f",
   "metadata": {},
   "source": [
    "## Técnica 1 - LinearRegression from SkLearn"
   ]
  },
  {
   "cell_type": "code",
   "execution_count": 5,
   "id": "b67a3c0e-7153-4674-b956-63313b0d3525",
   "metadata": {},
   "outputs": [],
   "source": [
    "reg_linear = LinearRegression().fit(X_train, y_train)"
   ]
  },
  {
   "cell_type": "code",
   "execution_count": 6,
   "id": "5012437e-0053-4ad4-a633-c9cf3fed0a3c",
   "metadata": {},
   "outputs": [],
   "source": [
    "y_pred_linear = reg_linear.predict(X_test)"
   ]
  },
  {
   "cell_type": "code",
   "execution_count": 7,
   "id": "857bc523-c328-4d46-8ac3-af60e7a59b52",
   "metadata": {},
   "outputs": [],
   "source": [
    "MSE_linear = mean_squared_error(y_test, y_pred_linear)"
   ]
  },
  {
   "cell_type": "code",
   "execution_count": 8,
   "id": "b86bdf52-1780-488c-b73f-1c698abac029",
   "metadata": {},
   "outputs": [
    {
     "name": "stdout",
     "output_type": "stream",
     "text": [
      "MSE:  28.707330758450674\n",
      "RMSE:  5.357922242665591\n"
     ]
    }
   ],
   "source": [
    "print(\"MSE: \", MSE_linear)\n",
    "print(\"RMSE: \", np.sqrt(MSE_linear))"
   ]
  },
  {
   "cell_type": "markdown",
   "id": "d517fc28-4e1b-4244-9613-1107637f3b4a",
   "metadata": {},
   "source": [
    "## Técnica 2 - SVR from SkLearn"
   ]
  },
  {
   "cell_type": "code",
   "execution_count": 9,
   "id": "3dc1e68b-70bb-4ad2-b4df-39cb845b5ecf",
   "metadata": {},
   "outputs": [],
   "source": [
    "reg_svr = SVR().fit(X_train, y_train.ravel())"
   ]
  },
  {
   "cell_type": "code",
   "execution_count": 10,
   "id": "d0676b00-be37-478d-9d3d-b4e2a4eee313",
   "metadata": {},
   "outputs": [],
   "source": [
    "y_pred_svr = reg_svr.predict(X_test)"
   ]
  },
  {
   "cell_type": "code",
   "execution_count": 11,
   "id": "5f44e909-d2d4-4a71-b209-1782d933a2b9",
   "metadata": {},
   "outputs": [],
   "source": [
    "MSE_svr = mean_squared_error(y_test, y_pred_svr)"
   ]
  },
  {
   "cell_type": "code",
   "execution_count": 12,
   "id": "66e4e655-9b8c-4b11-a1d1-1bb5f9a0bcac",
   "metadata": {},
   "outputs": [
    {
     "name": "stdout",
     "output_type": "stream",
     "text": [
      "MSE:  46.10052052274237\n",
      "RMSE:  6.789736410402275\n"
     ]
    }
   ],
   "source": [
    "print(\"MSE: \", MSE_svr)\n",
    "print(\"RMSE: \", np.sqrt(MSE_svr))"
   ]
  },
  {
   "cell_type": "markdown",
   "id": "c3730434-0814-4a03-b388-4640a70360da",
   "metadata": {},
   "source": [
    "## Técnica 3 - Decision Tree Regression from XGBoost"
   ]
  },
  {
   "cell_type": "code",
   "execution_count": 13,
   "id": "2466deb3-94a0-4136-a24b-6ed9dc93cb89",
   "metadata": {},
   "outputs": [],
   "source": [
    "reg_xgb = XGBRegressor().fit(X_train, y_train)"
   ]
  },
  {
   "cell_type": "code",
   "execution_count": 14,
   "id": "64423a59-7cd6-484d-902a-24f567edad21",
   "metadata": {},
   "outputs": [],
   "source": [
    "y_pred_xgb = reg_xgb.predict(X_test)"
   ]
  },
  {
   "cell_type": "code",
   "execution_count": 15,
   "id": "8109872f-b0ee-4ddc-867d-6a62481458dd",
   "metadata": {},
   "outputs": [],
   "source": [
    "MSE_xgb = mean_squared_error(y_test, y_pred_xgb)"
   ]
  },
  {
   "cell_type": "code",
   "execution_count": 16,
   "id": "3342a489-f00a-4dc1-817c-3736b56a5145",
   "metadata": {},
   "outputs": [
    {
     "name": "stdout",
     "output_type": "stream",
     "text": [
      "MSE:  33.95657360367545\n",
      "RMSE:  5.827226922274046\n"
     ]
    }
   ],
   "source": [
    "print(\"MSE: \", MSE_xgb)\n",
    "print(\"RMSE: \", np.sqrt(MSE_xgb))"
   ]
  },
  {
   "cell_type": "markdown",
   "id": "ed2cc077-186b-4268-ba82-96b222c09827",
   "metadata": {},
   "source": [
    "# Otimização de Hiperparametros\n",
    "\n",
    "* [Utilizando o metodo GridSearchCV do SkLearn](https://scikit-learn.org/stable/modules/generated/sklearn.model_selection.GridSearchCV.html)"
   ]
  },
  {
   "cell_type": "code",
   "execution_count": 17,
   "id": "0ea5dce8-f529-4e4e-942d-87f24fd2e109",
   "metadata": {},
   "outputs": [
    {
     "data": {
      "text/plain": [
       "dict_keys(['objective', 'base_score', 'booster', 'callbacks', 'colsample_bylevel', 'colsample_bynode', 'colsample_bytree', 'device', 'early_stopping_rounds', 'enable_categorical', 'eval_metric', 'feature_types', 'feature_weights', 'gamma', 'grow_policy', 'importance_type', 'interaction_constraints', 'learning_rate', 'max_bin', 'max_cat_threshold', 'max_cat_to_onehot', 'max_delta_step', 'max_depth', 'max_leaves', 'min_child_weight', 'missing', 'monotone_constraints', 'multi_strategy', 'n_estimators', 'n_jobs', 'num_parallel_tree', 'random_state', 'reg_alpha', 'reg_lambda', 'sampling_method', 'scale_pos_weight', 'subsample', 'tree_method', 'validate_parameters', 'verbosity'])"
      ]
     },
     "execution_count": 17,
     "metadata": {},
     "output_type": "execute_result"
    }
   ],
   "source": [
    "reg_xgb.get_params().keys()"
   ]
  },
  {
   "cell_type": "code",
   "execution_count": 18,
   "id": "bc93d311-c6be-4649-8427-12e6b070902f",
   "metadata": {},
   "outputs": [],
   "source": [
    "parameters = {\n",
    "    \"max_depth\": [4, 5, 6, 7, 8, 9],\n",
    "    \"learning_rate\": [0, 0.1, 0.2, 0.3, 0.4],\n",
    "    \"objective\": [\"reg:squarederror\"],\n",
    "    \"booster\": [\"gbtree\"],\n",
    "    \"n_jobs\": [5],\n",
    "    \"gamma\": [0, 1],\n",
    "    \"min_child_weight\": [1, 2, 3],\n",
    "    \"max_delta_step\": [0, 1],\n",
    "    \"subsample\": [0.5, 1],\n",
    "}"
   ]
  },
  {
   "cell_type": "code",
   "execution_count": 19,
   "id": "d79af237-c2e8-4b1d-aa9c-ec3bcac6024d",
   "metadata": {},
   "outputs": [],
   "source": [
    "xgb_grid = GridSearchCV(\n",
    "    estimator=XGBRegressor(),\n",
    "    param_grid=parameters,\n",
    "    refit=\"neg_mean_square_error\",\n",
    "    verbose=1,\n",
    ")"
   ]
  },
  {
   "cell_type": "code",
   "execution_count": 20,
   "id": "3a37ddae-49b6-4f74-b7b5-34dcf282c433",
   "metadata": {
    "scrolled": true
   },
   "outputs": [
    {
     "name": "stdout",
     "output_type": "stream",
     "text": [
      "Fitting 5 folds for each of 720 candidates, totalling 3600 fits\n"
     ]
    }
   ],
   "source": [
    "xgb_grid_model = xgb_grid.fit(X_train, y_train)"
   ]
  },
  {
   "cell_type": "code",
   "execution_count": 21,
   "id": "e8e1955c-56c6-4c60-907d-de25ac0647ca",
   "metadata": {},
   "outputs": [
    {
     "data": {
      "text/plain": [
       "{'booster': 'gbtree',\n",
       " 'gamma': 0,\n",
       " 'learning_rate': 0.1,\n",
       " 'max_delta_step': 0,\n",
       " 'max_depth': 7,\n",
       " 'min_child_weight': 3,\n",
       " 'n_jobs': 5,\n",
       " 'objective': 'reg:squarederror',\n",
       " 'subsample': 0.5}"
      ]
     },
     "execution_count": 21,
     "metadata": {},
     "output_type": "execute_result"
    }
   ],
   "source": [
    "xgb_grid_model.best_params_"
   ]
  },
  {
   "cell_type": "code",
   "execution_count": 22,
   "id": "aefe64c8-1480-4993-8638-54049c16172a",
   "metadata": {},
   "outputs": [],
   "source": [
    "y_grid = xgb_grid_model.predict(X_test)"
   ]
  },
  {
   "cell_type": "code",
   "execution_count": 23,
   "id": "547e35db-ba0f-49e1-a985-4666d35bec82",
   "metadata": {},
   "outputs": [],
   "source": [
    "MSE_grid = mean_squared_error(y_test, y_grid)"
   ]
  },
  {
   "cell_type": "code",
   "execution_count": 24,
   "id": "11b567f1-fa84-4ebe-9dfc-7facb2167762",
   "metadata": {},
   "outputs": [
    {
     "name": "stdout",
     "output_type": "stream",
     "text": [
      "MSE:  22.85429204703328\n",
      "RMSE:  4.780616283182878\n"
     ]
    }
   ],
   "source": [
    "print(\"MSE: \", MSE_grid)\n",
    "print(\"RMSE: \", np.sqrt(MSE_grid))"
   ]
  }
 ],
 "metadata": {
  "kernelspec": {
   "display_name": "Python 3 (ipykernel)",
   "language": "python",
   "name": "python3"
  },
  "language_info": {
   "codemirror_mode": {
    "name": "ipython",
    "version": 3
   },
   "file_extension": ".py",
   "mimetype": "text/x-python",
   "name": "python",
   "nbconvert_exporter": "python",
   "pygments_lexer": "ipython3",
   "version": "3.13.1"
  }
 },
 "nbformat": 4,
 "nbformat_minor": 5
}
